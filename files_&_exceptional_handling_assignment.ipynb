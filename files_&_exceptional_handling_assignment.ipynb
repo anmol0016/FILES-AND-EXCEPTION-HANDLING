{
  "nbformat": 4,
  "nbformat_minor": 0,
  "metadata": {
    "colab": {
      "provenance": []
    },
    "kernelspec": {
      "name": "python3",
      "display_name": "Python 3"
    },
    "language_info": {
      "name": "python"
    }
  },
  "cells": [
    {
      "cell_type": "markdown",
      "source": [
        "1.What is the difference between interpreted and compiled languages?"
      ],
      "metadata": {
        "id": "HI-laDY8YzJF"
      }
    },
    {
      "cell_type": "markdown",
      "source": [
        "The main difference lies in how the code is executed. Compiled languages are translated into machine code before execution, while interpreted languages are translated line by line during execution.\n",
        "\n",
        "Here's a breakdown:\n",
        "\n",
        "**Compiled Languages:**\n",
        "\n",
        "- Process: The entire source code is translated into machine code (executable code) by a compiler before the program is run.\n",
        "Execution: The compiled executable file is run directly by the operating system.\n",
        "- Speed: Generally faster execution because the translation is done beforehand.\n",
        "-  Examples: C, C++, Java (though Java also has an interpreter aspect), Go.\n",
        "\n",
        "**Interpreted Languages:**\n",
        "\n",
        "- Process: An interpreter translates and executes the code line by line at runtime.\n",
        "Execution: The source code is read and executed by the interpreter.\n",
        "- Speed: Generally slower execution because each line needs to be translated before it can be executed.\n",
        "- Examples: Python, JavaScript, Ruby, PHP.\n",
        "In essence, compiled languages have a \"build\" step where the code is prepared for execution, while interpreted languages execute the code directly from the source."
      ],
      "metadata": {
        "id": "KYCiBRHUY7zD"
      }
    },
    {
      "cell_type": "markdown",
      "source": [
        "2.What is exception handling in Python ?"
      ],
      "metadata": {
        "id": "kdbmAlJSaZVE"
      }
    },
    {
      "cell_type": "markdown",
      "source": [
        "Exception handling in Python is a mechanism that allows you to deal with errors or unexpected events that occur during the execution of your program. These events, called exceptions, disrupt the normal flow of the program's instructions.\n",
        "\n",
        "Without exception handling, if an exception occurs, the program will typically terminate abruptly and display an error message (a traceback). Exception handling allows you to \"catch\" these exceptions and handle them gracefully, preventing the program from crashing and potentially providing a more informative message to the user or taking corrective action.\n",
        "\n",
        "The primary constructs for exception handling in Python are try, except, else, and finally:\n",
        "\n",
        "-  try block: This block contains the code that might potentially raise an exception.\n",
        "- except block: This block is executed if a specific type of exception (or any exception, if not specified) occurs within the corresponding try block. You can have multiple except blocks to handle different types of exceptions.\n",
        "-  else block: This optional block is executed if the code in the try block runs without raising any exceptions.\n",
        "-  finally block: This optional block is always executed, regardless of whether an exception occurred in the try block or not. It's often used for cleanup operations, such as closing files or releasing resources."
      ],
      "metadata": {
        "id": "nNcbJ1w7alnK"
      }
    },
    {
      "cell_type": "markdown",
      "source": [
        "3.What is the purpose of the finally block in exception handling ?"
      ],
      "metadata": {
        "id": "D41tA8aHbSwY"
      }
    },
    {
      "cell_type": "markdown",
      "source": [
        "The purpose of the finally block in exception handling is to provide a section of code that will always be executed, regardless of whether an exception occurred in the try block or not.\n",
        "\n",
        "It's typically used for cleanup operations that need to happen regardless of the outcome of the code in the try block. Common use cases include:\n",
        "\n",
        "- Closing files: Ensuring that files are closed properly, even if an error occurs while reading or writing to them.\n",
        "- Releasing resources: Releasing other resources like network connections, database connections, or locks.\n",
        "- Performing necessary finalization: Any other actions that must be performed before exiting a block of code.\n",
        "\n",
        "Think of it as a guarantee that the code within the finally block will run, making it essential for maintaining the integrity of your program and preventing resource leaks."
      ],
      "metadata": {
        "id": "UcKFxJELbg3M"
      }
    },
    {
      "cell_type": "markdown",
      "source": [
        "4.What is logging in Python ?"
      ],
      "metadata": {
        "id": "nde5tH8YcEZV"
      }
    },
    {
      "cell_type": "markdown",
      "source": [
        "Logging in Python is a way to track events that happen when your software runs. It's like leaving a trail of breadcrumbs that can help you understand what your program is doing, diagnose issues, and monitor its behavior.\n",
        "\n",
        "Instead of just printing messages to the console (which can be difficult to manage in larger applications), Python's built-in logging module provides a more structured and flexible approach.\n",
        "\n",
        "Here are some key aspects of logging in Python:\n",
        "\n",
        "- Log Levels: You can categorize your log messages based on their severity. Common levels include:\n",
        "- DEBUG: Detailed information, typically only of interest when diagnosing problems.\n",
        "- INFO: Confirmation that things are working as expected.\n",
        "- WARNING: An indication that something unexpected happened, or might happen in the near future (e.g. 'disk space low'). The software is still working as expected.\n",
        "- ERROR: Due to a more serious problem, the software has not been able to perform some function.\n",
        "- CRITICAL: A serious error, indicating that the program itself may be unable to continue running.\n",
        "- Loggers: These are the entry points to the logging system. You can create different loggers for different parts of your application.\n",
        "- Handlers: Handlers determine where the log messages go (e.g., console, file, network socket).\n",
        "- Formatters: Formatters specify the layout of the log messages (e.g., including timestamps, log levels, and the message itself).\n",
        "By using logging, you can:\n",
        "\n",
        "- Debug more effectively: See the flow of your program and the values of variables at different points.\n",
        "- Monitor your application: Track performance, identify potential issues, and understand user behavior.\n",
        "- Troubleshoot problems: Pinpoint the source of errors and exceptions.\n",
        "Improve maintainability: Make your code easier to understand and modify."
      ],
      "metadata": {
        "id": "yczoRoIucZ3K"
      }
    },
    {
      "cell_type": "markdown",
      "source": [
        "5.What is the significance of the __del__ method in Python ?"
      ],
      "metadata": {
        "id": "ft1C1SH2eyay"
      }
    },
    {
      "cell_type": "markdown",
      "source": [
        "\n",
        "The __del__ method in Python is a special method, often referred to as a destructor. It's called when an object is about to be destroyed or garbage collected.\n",
        "Here's the significance:\n",
        "- Resource Cleanup: The primary use case for __del__ is to perform cleanup operations before an object is removed from memory. This can include releasing external resources like file handles, network connections, or database connections that the object might be holding.\n",
        "- Finalization: It provides a way to finalize an object's state before it's gone. This is less common than resource cleanup but can be useful in specific scenarios.\n",
        "However, it's important to note that relying heavily on __del__ is generally discouraged in Python due to several reasons:\n",
        "- Unpredictable Timing: The exact time when __del__ is called is not guaranteed. It depends on the garbage collector, which runs at indeterminate times. This can make it difficult to reliably release resources.\n",
        "- Circular References: Objects with circular references can sometimes prevent __del__ from being called.\n",
        "- Exceptions: If an exception occurs within __del__, it can lead to unexpected behavior and potentially crash the program.\n",
        "In most cases, it's better to use context managers (with statements) or explicit cleanup methods to manage resources and perform necessary finalization."
      ],
      "metadata": {
        "id": "LSnkV8-FfRat"
      }
    },
    {
      "cell_type": "markdown",
      "source": [
        "6.What is the difference between import and from ... import in Python ?"
      ],
      "metadata": {
        "id": "WeKavReQgrnh"
      }
    },
    {
      "cell_type": "markdown",
      "source": [
        "The main difference lies in how the imported objects are accessed.\n",
        "\n",
        "- **import module_name:** Imports the entire module. You access objects using module_name.object_name.\n",
        "- **from module_name import object_name:** Imports only specific objects directly into your current scope. You access them directly as object_name."
      ],
      "metadata": {
        "id": "sSqhFtmgg_pO"
      }
    },
    {
      "cell_type": "markdown",
      "source": [
        "7.How can you handle multiple exceptions in python ?"
      ],
      "metadata": {
        "id": "nsStV0g0jHLM"
      }
    },
    {
      "cell_type": "markdown",
      "source": [
        "We can handle multiple exceptions in Python in several ways using the try...except block."
      ],
      "metadata": {
        "id": "fGHG4hUXbQn5"
      }
    },
    {
      "cell_type": "code",
      "metadata": {
        "colab": {
          "base_uri": "https://localhost:8080/"
        },
        "id": "00038112",
        "outputId": "e2785b63-8f1d-43f8-af4b-cb19542a76f5"
      },
      "source": [
        "    try:\n",
        "        # Code that might raise exceptions\n",
        "        result = 10 / 0  # Example: ZeroDivisionError\n",
        "        my_list = [1, 2, 3]\n",
        "        print(my_list[5]) # Example: IndexError\n",
        "    except ZeroDivisionError:\n",
        "        print(\"Error: Division by zero!\")\n",
        "    except IndexError:\n",
        "        print(\"Error: Index out of bounds!\")\n",
        "    except Exception as e:\n",
        "        print(f\"An unexpected error occurred: {e}\")"
      ],
      "execution_count": 3,
      "outputs": [
        {
          "output_type": "stream",
          "name": "stdout",
          "text": [
            "Error: Division by zero!\n"
          ]
        }
      ]
    },
    {
      "cell_type": "markdown",
      "source": [
        "8.What is the purpose of with statement when handling files in python ?"
      ],
      "metadata": {
        "id": "dfhVC9ISaup9"
      }
    },
    {
      "cell_type": "markdown",
      "metadata": {
        "id": "3a43115f"
      },
      "source": [
        "The `with` statement in Python is primarily used for resource management, particularly when dealing with files. Its main purpose is to ensure that resources that need to be closed or released after use are automatically handled, even if errors occur.\n",
        "\n",
        "Here's why it's significant when handling files:\n",
        "\n",
        "- **Automatic Resource Management:** When you open a file using the `with` statement, Python guarantees that the file will be closed automatically when the block is exited, regardless of whether the block completes successfully or an exception is raised. This prevents resource leaks, which can happen if you forget to close a file manually.\n",
        "\n",
        "- **Cleaner Code:** It makes your code cleaner and more readable by removing the need for explicit `close()` calls and `try...finally` blocks for resource cleanup.\n",
        "\n",
        "- **Exception Safety:** If an exception occurs while working with the file inside the `with` block, the `with` statement ensures that the file is still closed properly before the exception is propagated.\n",
        "\n",
        "Here's an example demonstrating the use of `with` for file handling:"
      ]
    },
    {
      "cell_type": "code",
      "metadata": {
        "id": "fed10378"
      },
      "source": [
        "try:\n",
        "    with open(\"my_file.txt\", \"r\") as file:\n",
        "        content = file.read()\n",
        "        print(content)\n",
        "    # File is automatically closed here, even if an error occurred within the 'with' block\n",
        "except FileNotFoundError:\n",
        "    print(\"Error: The file was not found.\")\n",
        "except Exception as e:\n",
        "    print(f\"An error occurred: {e}\")\n",
        "\n",
        "# You don't need to call file.close() explicitly"
      ],
      "execution_count": null,
      "outputs": []
    },
    {
      "cell_type": "markdown",
      "metadata": {
        "id": "22758108"
      },
      "source": [
        "In this example, the `with open(...) as file:` statement opens the file \"my_file.txt\" in read mode (`\"r\"`). The opened file object is assigned to the variable `file`. After the code inside the `with` block is executed (reading the content and printing it), the `with` statement automatically calls the file's `close()` method, ensuring the file is properly closed."
      ]
    },
    {
      "cell_type": "markdown",
      "source": [
        "9.What is the difference between multithreading and multiprocessing ?"
      ],
      "metadata": {
        "id": "lK8ywT9_fkwx"
      }
    },
    {
      "cell_type": "markdown",
      "metadata": {
        "id": "8851727e"
      },
      "source": [
        "Multithreading and multiprocessing are two common approaches to achieve concurrency in programming, allowing different parts of a program to run seemingly simultaneously. However, they differ significantly in how they achieve this concurrency and their underlying mechanisms.\n",
        "\n",
        "Here's a breakdown of the key differences:\n",
        "\n",
        "**Multithreading:**\n",
        "\n",
        "- **Definition:** In multithreading, multiple threads of execution run within a single process. Threads share the same memory space and resources of the parent process.\n",
        "- **Concurrency vs. Parallelism:** Due to the Global Interpreter Lock (GIL) in CPython (the standard Python implementation), multithreading in Python primarily achieves concurrency, not true parallelism for CPU-bound tasks. The GIL prevents multiple native threads from executing Python bytecode simultaneously within a single process.\n",
        "- **Overhead:** Creating and managing threads generally has lower overhead compared to processes because threads are lighter-weight.\n",
        "- **Communication:** Threads can easily share data and communicate with each other as they share the same memory space. However, this shared memory also requires careful synchronization mechanisms (like locks, semaphores) to avoid race conditions and data corruption.\n",
        "- **Use Cases:** Suitable for I/O-bound tasks (tasks that spend a lot of time waiting for external resources like network requests, file operations, or user input) where the GIL is released while waiting.\n",
        "\n",
        "**Multiprocessing:**\n",
        "\n",
        "- **Definition:** In multiprocessing, multiple independent processes run concurrently. Each process has its own separate memory space and resources.\n",
        "- **Concurrency and Parallelism:** Multiprocessing can achieve true parallelism for CPU-bound tasks because each process has its own Python interpreter and memory space, bypassing the GIL limitations.\n",
        "- **Overhead:** Creating and managing processes generally has higher overhead compared to threads because each process requires a new memory space and resources.\n",
        "- **Communication:** Processes do not share memory directly. Communication between processes requires explicit mechanisms like pipes, queues, or shared memory (with appropriate synchronization).\n",
        "- **Use Cases:** Suitable for CPU-bound tasks (tasks that spend most of their time performing computations) that can benefit from utilizing multiple CPU cores.\n",
        "\n"
      ]
    },
    {
      "cell_type": "markdown",
      "source": [
        "10.What are the advantages of using logging in the program ?"
      ],
      "metadata": {
        "id": "CFUCvGgMiVoC"
      }
    },
    {
      "cell_type": "markdown",
      "metadata": {
        "id": "e2477280"
      },
      "source": [
        "Using logging in your program offers several significant advantages compared to simply using `print()` statements for debugging and monitoring. Here are some of the key benefits:\n",
        "\n",
        "1.  **Improved Debugging:**\n",
        "    *   **Detailed Information:** Logging allows you to capture detailed information about the program's state, variable values, and execution flow at different points. This is invaluable for pinpointing the source of errors and understanding how the program behaves.\n",
        "    *   **Different Levels:** You can categorize your log messages by severity (DEBUG, INFO, WARNING, ERROR, CRITICAL). This makes it easy to filter and focus on the messages that are most relevant to the current issue you're trying to debug.\n",
        "\n",
        "2.  **Better Monitoring and Troubleshooting:**\n",
        "    *   **Production Environments:** Logging is essential for monitoring your application in production environments where you don't have access to a console for `print()` statements. You can configure logs to be written to files, databases, or external logging services for later analysis.\n",
        "    *   **Identifying Issues:** By analyzing logs, you can identify patterns, performance bottlenecks, and recurring errors that might not be apparent during development.\n",
        "    *   **Post-mortem Analysis:** When a program crashes, logs can provide a valuable history of events leading up to the crash, helping you understand the cause and fix it.\n",
        "\n",
        "3.  **Enhanced Maintainability:**\n",
        "    *   **Structured Output:** Logging provides a structured way to output information, making it easier to parse and analyze logs programmatically.\n",
        "    *   **Separation of Concerns:** Logging separates the output of diagnostic information from the main logic of your program, making the code cleaner and more organized.\n",
        "    *   **Auditing and Compliance:** In some cases, logging is required for auditing purposes or to comply with regulations.\n",
        "\n",
        "4.  **Flexibility and Customization:**\n",
        "    *   **Configurable Output:** You can configure logging to send messages to different destinations (console, file, network, etc.) and format the output according to your needs.\n",
        "    *   **Modular Design:** The logging module is designed to be modular, allowing you to create different loggers for different parts of your application and manage them independently.\n",
        "\n",
        "5.  **Collaboration:**\n",
        "    *   **Shared Understanding:** Logs provide a common source of information for developers working on a project, facilitating collaboration and troubleshooting.\n",
        "\n"
      ]
    },
    {
      "cell_type": "markdown",
      "source": [
        "11. What is memory management in python ?"
      ],
      "metadata": {
        "id": "cZktcLTJjUG7"
      }
    },
    {
      "cell_type": "markdown",
      "metadata": {
        "id": "e75062f9"
      },
      "source": [
        "Memory management in Python is handled automatically by the Python interpreter through a combination of techniques, primarily:\n",
        "\n",
        "1.  **Reference Counting:** This is the primary mechanism. Python keeps track of the number of references to an object. When the reference count of an object drops to zero, it means there are no longer any variables or data structures pointing to that object. At this point, the memory occupied by the object is deallocated and made available for reuse.\n",
        "\n",
        "    *   **How it works:** When you create an object and assign it to a variable, the reference count is 1. If you assign the same object to another variable, the reference count increases. When a variable that refers to an object goes out of scope or is reassigned, the reference count decreases.\n",
        "    *   **Limitations:** Reference counting alone cannot handle circular references, where objects refer to each other in a cycle. If two objects refer to each other, their reference counts will never drop to zero, even if there are no external references to the cycle.\n",
        "\n",
        "2.  **Garbage Collection (specifically, a cyclic garbage collector):** To address the limitation of reference counting with circular references, Python has a cyclic garbage collector. This collector periodically identifies and reclaims memory occupied by objects that are part of a cycle and are no longer reachable from outside the cycle.\n",
        "\n",
        "    *   **How it works:** The garbage collector traverses the object graph and identifies unreachable cycles. Once a cycle is identified, the memory occupied by the objects in the cycle is deallocated.\n",
        "    *   **When it runs:** The garbage collector runs automatically at certain intervals or when the number of allocated objects exceeds a threshold. You can also manually trigger garbage collection if needed, though it's generally not necessary for most applications.\n",
        "\n",
        "**Key Concepts:**\n",
        "\n",
        "*   **Objects:** Everything in Python is an object, and each object occupies memory.\n",
        "*   **References:** Variables in Python are not containers for objects; they are references (or names) that point to objects in memory.\n",
        "*   **Mutability:** The mutability of an object (whether it can be changed after creation) affects how memory is handled. Immutable objects (like numbers, strings, tuples) create new objects in memory when their values are changed. Mutable objects (like lists, dictionaries) can be modified in place.\n",
        "\n"
      ]
    },
    {
      "cell_type": "markdown",
      "source": [
        "12.What are the basic steps involved in exception handling in python ?"
      ],
      "metadata": {
        "id": "Gpfn9Ng1j26j"
      }
    },
    {
      "cell_type": "markdown",
      "metadata": {
        "id": "5e0598e2"
      },
      "source": [
        "The basic steps involved in exception handling in Python using the `try`, `except`, `else`, and `finally` blocks are as follows:\n",
        "\n",
        "1.  **Identify the potentially risky code:** Place the code that might raise an exception within a `try` block. This is the code that you want to monitor for errors.\n",
        "2.  **Handle specific exceptions:** Use one or more `except` blocks to specify how to handle different types of exceptions that might occur in the `try` block. You can handle specific exception types or a general `Exception`.\n",
        "3.  **Execute code if no exceptions occur:** Optionally, use an `else` block to include code that should only be executed if no exceptions were raised in the `try` block.\n",
        "4.  **Perform cleanup actions:** Optionally, use a `finally` block to include code that should always be executed, regardless of whether an exception occurred or not. This is typically used for cleanup operations."
      ]
    },
    {
      "cell_type": "markdown",
      "source": [
        "13. Why is memory management important in python ?"
      ],
      "metadata": {
        "id": "WK093l2jnkTt"
      }
    },
    {
      "cell_type": "markdown",
      "metadata": {
        "id": "7f84a8a2"
      },
      "source": [
        "Memory management is important in Python for several reasons, even though it's largely handled automatically by the interpreter:\n",
        "\n",
        "1.  **Efficiency and Performance:** Inefficient memory usage can still impact performance. If your program creates and destroys a large number of objects or holds onto unnecessary references, it can lead to increased memory consumption and slower execution due to the overhead of garbage collection.\n",
        "\n",
        "2.  **Preventing Memory Leaks:** Although Python has a garbage collector to reclaim memory, circular references that are not detected can lead to memory leaks, eventually causing the program to run out of memory.\n",
        "\n",
        "3.  **Resource Management:** Programs often interact with other resources like file handles and network connections. If these are not properly released, it can lead to resource exhaustion and program instability.\n",
        "\n",
        "4.  **Understanding Program Behavior:** Understanding how Python manages memory can help you write more efficient and robust code and aid in debugging memory-related issues.\n",
        "\n",
        "5.  **Working with Large Datasets:** When working with large datasets or memory-intensive applications, efficient memory management becomes crucial for performance.\n",
        "\n",
        "6.  **Predictability:** Understanding the principles behind memory management helps you reason about your program's behavior and anticipate potential issues related to memory usage."
      ]
    },
    {
      "cell_type": "markdown",
      "source": [
        "14. What is the role of try and except in exception handling ?"
      ],
      "metadata": {
        "id": "TVsjyBx2oVGp"
      }
    },
    {
      "cell_type": "markdown",
      "metadata": {
        "id": "5e8ef5e6"
      },
      "source": [
        "In Python's exception handling mechanism, the `try` and `except` blocks play crucial roles:\n",
        "\n",
        "1.  **`try` block:**\n",
        "    *   **Purpose:** The `try` block is used to enclose the code that you suspect might raise an exception. This is the code that you want to \"monitor\" for potential errors during execution.\n",
        "    *   **Execution:** Python attempts to execute the code within the `try` block. If no exception occurs, the `try` block completes successfully, and the program continues its normal flow (potentially executing an optional `else` block if present).\n",
        "    *   **If an exception occurs:** If an exception is raised within the `try` block, the remaining code in the `try` block is skipped, and Python immediately looks for a matching `except` block to handle the specific type of exception that occurred.\n",
        "\n",
        "2.  **`except` block:**\n",
        "    *   **Purpose:** The `except` block is used to define how to handle a specific type of exception (or any exception, if a specific type is not mentioned) that might be raised in the preceding `try` block.\n",
        "    *   **Execution:** If an exception occurs in the `try` block, Python checks the `except` blocks sequentially to find a handler that matches the type of the raised exception. If a match is found, the code within that `except` block is executed.\n",
        "    *   **Handling different exceptions:** You can have multiple `except` blocks associated with a single `try` block to handle different types of exceptions in different ways.\n",
        "    *   **Catching all exceptions:** A general `except` block without specifying an exception type will catch any exception that occurs (though it's generally better practice to catch specific exceptions to make your code more robust and easier to debug).\n",
        "    *   **Accessing exception information:** You can optionally include `as variable_name` after the exception type in the `except` block to access information about the exception object (e.g., the error message).\n",
        "\n",
        "In essence, the `try` block is where you put the code that might fail, and the `except` block(s) are where you put the code that should run if a specific type of failure (exception) occurs. This allows you to gracefully handle errors and prevent your program from crashing."
      ]
    },
    {
      "cell_type": "markdown",
      "source": [
        "15.How does python's garbage collection system works ?"
      ],
      "metadata": {
        "id": "pxw8xNdfqwnU"
      }
    },
    {
      "cell_type": "markdown",
      "metadata": {
        "id": "c755bffd"
      },
      "source": [
        "Python's garbage collection system is primarily handled by two mechanisms:\n",
        "\n",
        "1.  **Reference Counting:** This is the fundamental and most frequently used mechanism.\n",
        "    *   Every object in Python has a reference count, which is an integer that tracks the number of references (variables, data structures, etc.) pointing to that object.\n",
        "    *   When an object is created, its reference count is initialized to 1.\n",
        "    *   When a new reference to an object is created (e.g., assigning the object to another variable), its reference count is incremented.\n",
        "    *   When a reference to an object is removed (e.g., a variable goes out of scope, is reassigned, or explicitly deleted using `del`), its reference count is decremented.\n",
        "    *   When an object's reference count drops to zero, it means there are no longer any references to it, and the memory it occupies is immediately deallocated and returned to the system for reuse.\n",
        "\n",
        "2.  **Cyclic Garbage Collector:** This mechanism is designed to handle the limitation of reference counting, which is its inability to detect and reclaim memory occupied by objects involved in circular references.\n",
        "    *   A circular reference occurs when two or more objects refer to each other in a cycle, even if there are no external references to the cycle. In this case, the reference counts of the objects in the cycle will never drop to zero, and the memory they occupy would be leaked if only reference counting were used.\n",
        "    *   The cyclic garbage collector runs periodically (or can be triggered manually). It traverses the object graph and identifies unreachable cycles of objects.\n",
        "    *   Once a cycle is identified as unreachable from the rest of the program, the garbage collector deallocates the memory occupied by the objects in the cycle.\n",
        "    *   The cyclic garbage collector uses an algorithm that involves temporarily breaking potential cycles and then checking if the objects become unreachable.\n",
        "\n",
        "**How they work together:**\n",
        "\n",
        "Reference counting is efficient and handles the majority of garbage collection in Python. The cyclic garbage collector acts as a supplement to reference counting, specifically dealing with the cases of circular references that reference counting cannot handle.\n",
        "\n",
        "**Key points:**\n",
        "\n",
        "*   Python's garbage collection is automatic, relieving the programmer from manual memory management.\n",
        "*   Reference counting is the primary mechanism, providing immediate deallocation when an object is no longer referenced.\n",
        "*   The cyclic garbage collector handles circular references to prevent memory leaks.\n",
        "*   The exact timing of the cyclic garbage collector's runs is not guaranteed, but it happens periodically or when certain thresholds are met.\n",
        "*   You can interact with the garbage collector using the `gc` module, but it's generally not necessary for most applications."
      ]
    },
    {
      "cell_type": "markdown",
      "source": [
        "16.What is the purpose of else block in ecxeption handling ?"
      ],
      "metadata": {
        "id": "m8RhdomusCbC"
      }
    },
    {
      "cell_type": "markdown",
      "metadata": {
        "id": "b320603b"
      },
      "source": [
        "In Python's exception handling, the `else` block is an optional part of the `try...except` structure. Its purpose is to define a block of code that should be executed **only if the code in the `try` block runs without raising any exceptions.**\n",
        "\n",
        "Think of it this way:\n",
        "\n",
        "*   The `try` block is for the code that might cause an error.\n",
        "*   The `except` block(s) are for handling specific errors if they occur in the `try` block.\n",
        "*   The `else` block is for code that should execute if everything in the `try` block goes smoothly and no exceptions are raised.\n",
        "\n",
        "This is useful for separating the code that might fail from the code that depends on the success of the `try` block. It makes the code more readable and helps clarify the intended flow of execution."
      ]
    },
    {
      "cell_type": "markdown",
      "source": [
        "17.What are the common logging levels in python ?"
      ],
      "metadata": {
        "id": "bbe_h05us6QG"
      }
    },
    {
      "cell_type": "markdown",
      "metadata": {
        "id": "6ae9363a"
      },
      "source": [
        "The common logging levels in Python, in increasing order of severity, are:\n",
        "\n",
        "1.  **DEBUG:** Detailed information, typically only of interest when diagnosing problems. This level is used for fine-grained information about the program's execution.\n",
        "\n",
        "2.  **INFO:** Confirmation that things are working as expected. This level is used to record routine events and milestones in the program's execution.\n",
        "\n",
        "3.  **WARNING:** An indication that something unexpected happened, or might happen in the near future (e.g. 'disk space low'). The software is still working as expected. This level is used to indicate potential issues that do not prevent the program from functioning correctly.\n",
        "\n",
        "4.  **ERROR:** Due to a more serious problem, the software has not been able to perform some function. This level is used to indicate errors that prevent a specific function from completing.\n",
        "\n",
        "5.  **CRITICAL:** A serious error, indicating that the program itself may be unable to continue running. This level is used to indicate severe errors that may lead to program termination.\n",
        "\n"
      ]
    },
    {
      "cell_type": "markdown",
      "source": [
        "18.What is the difference between os.fork() and multiprocessing in python ?"
      ],
      "metadata": {
        "id": "iyKMEFwauQD7"
      }
    },
    {
      "cell_type": "markdown",
      "metadata": {
        "id": "ddc1fded"
      },
      "source": [
        "The `os.fork()` function and the `multiprocessing` module are both used to create new processes in Python, but they differ in their approach and ease of use, especially across different operating systems.\n",
        "\n",
        "Here's a breakdown of the key differences:\n",
        "\n",
        "1.  **`os.fork()`:**\n",
        "    *   **Mechanism:** `os.fork()` is a low-level system call that creates a new process by duplicating the current process. The new process (the child process) is an almost exact copy of the parent process, including its memory space, open file descriptors, and other resources.\n",
        "    *   **Platform Specificity:** `os.fork()` is primarily available on Unix-like systems (Linux, macOS, etc.). It is not available on Windows due to fundamental differences in how processes are created on that operating system.\n",
        "    *   **Complexity:** Using `os.fork()` directly can be more complex, as you need to handle the split in execution flow (the parent process and child process continue from the point of the `fork()` call) and manage inter-process communication manually using low-level mechanisms like pipes.\n",
        "    *   **Inheritance:** The child process inherits the parent's memory space. This can be efficient for read-only data, but modifying shared data requires careful synchronization.\n",
        "\n",
        "2.  **`multiprocessing` module:**\n",
        "    *   **Mechanism:** The `multiprocessing` module is a higher-level, cross-platform abstraction for creating and managing processes. It provides an API that is similar to the `threading` module but uses processes instead of threads.\n",
        "    *   **Platform Independence:** The `multiprocessing` module works on both Unix-like systems and Windows, providing a consistent way to create and manage processes regardless of the operating system. On Windows, it typically uses a different mechanism (like spawning new processes) to achieve the same result as `fork()` on Unix.\n",
        "    *   **Ease of Use:** The `multiprocessing` module is generally easier to use than `os.fork()`. It provides high-level constructs like `Process` objects, `Pool` objects, and various inter-process communication mechanisms (Pipes, Queues, Locks, etc.) that simplify parallel programming.\n",
        "    *   **Memory:** By default, new processes created with `multiprocessing` have their own independent memory spaces. This avoids the issues of shared memory and the need for explicit synchronization for most cases, but it can be less efficient if you need to share large amounts of data. The module also provides mechanisms for sharing memory when needed.\n",
        "\n"
      ]
    },
    {
      "cell_type": "markdown",
      "source": [
        "19.What is the importance of closing a file in python ?"
      ],
      "metadata": {
        "id": "oCOAPl9RvXnZ"
      }
    },
    {
      "cell_type": "markdown",
      "metadata": {
        "id": "63c2f130"
      },
      "source": [
        "Closing a file in Python is important for these main reasons:\n",
        "\n",
        "*   **Frees up resources:** When you open a file, your computer uses resources to keep track of it. Closing the file releases these resources so other programs can use them.\n",
        "*   **Saves your data:** When you write to a file, the data is sometimes held in a temporary area before being fully saved. Closing the file makes sure all your data is written to the file.\n",
        "*   **Prevents problems:** Not closing a file can sometimes cause errors or prevent other programs from using the file.\n",
        "\n",
        "Using the `with` statement when working with files is the easiest way to make sure files are closed automatically, even if something goes wrong."
      ]
    },
    {
      "cell_type": "markdown",
      "source": [
        "20.What is the differece between file.read() and file.readline() in python?"
      ],
      "metadata": {
        "id": "3nCtrTMmwYNl"
      }
    },
    {
      "cell_type": "markdown",
      "metadata": {
        "id": "0a27ed4f"
      },
      "source": [
        "Here's the difference between `file.read()` and `file.readline()` in simple terms:\n",
        "\n",
        "*   `file.read()`: Reads the **entire** content of the file as a single string. Imagine reading a whole book in one go.\n",
        "*   `file.readline()`: Reads only **one line** from the file at a time. Imagine reading a book one sentence (or line) at a time.\n",
        "\n",
        "So, if you want to get everything in the file, use `read()`. If you want to process the file line by line, use `readline()` (or iterate over the file object directly, which is often more efficient for reading line by line)."
      ]
    },
    {
      "cell_type": "markdown",
      "source": [
        "21.What is the logging module in python used for ?"
      ],
      "metadata": {
        "id": "Viqzhy4ixL49"
      }
    },
    {
      "cell_type": "markdown",
      "metadata": {
        "id": "87a27112"
      },
      "source": [
        "The `logging` module in Python is used for recording events that happen while your program is running. Think of it like keeping a diary for your program.\n",
        "\n",
        "Instead of just printing messages that disappear once the program is done, logging allows you to:\n",
        "\n",
        "*   **Keep a record:** Save messages about what your program is doing to a file or somewhere else so you can look at them later.\n",
        "*   **Understand what went wrong:** If your program crashes or does something unexpected, the log messages can tell you what happened leading up to the problem.\n",
        "*   **See how your program is running:** You can log messages to track the progress of your program and see if everything is working as expected.\n",
        "*   **Control what messages you see:** You can set different levels of importance for your messages (like \"debug,\" \"info,\" \"warning,\" \"error\") and choose which levels you want to see. This helps you focus on important messages and ignore less important ones.\n",
        "\n",
        "In short, logging is a better way to manage messages from your program, especially for finding and fixing problems and understanding how your program works over time."
      ]
    },
    {
      "cell_type": "markdown",
      "source": [
        "22.What is the os module in python used for in file handling ?"
      ],
      "metadata": {
        "id": "F1A57H6Yx1-w"
      }
    },
    {
      "cell_type": "markdown",
      "metadata": {
        "id": "02cb7687"
      },
      "source": [
        "The `os` module in Python is like a toolbox for interacting with your computer's operating system, especially when it comes to files and folders.\n",
        "\n",
        "\n",
        "\n",
        "Here are some simple things you can do with the `os` module for file handling:\n",
        "\n",
        "*   **Check if a file or folder exists:** Like checking if a book is on the shelf.\n",
        "*   **Create or delete folders:** Like adding or removing a shelf.\n",
        "*   **Rename files or folders:** Like changing the title of a book or the label on a shelf.\n",
        "*   **Move around in your computer's file system:** Like walking to a different shelf in the library.\n",
        "*   **Get information about files:** Like finding out how many pages a book has or when it was last read.\n",
        "\n",
        "So, while you use the `open()` function to work with the content *inside* a file, you use the `os` module to work with the file or folder *itself* and manage them on your computer."
      ]
    },
    {
      "cell_type": "markdown",
      "source": [
        "23.What are the challenges associated with memory management in python?"
      ],
      "metadata": {
        "id": "Jfg1MWm-zuFP"
      }
    },
    {
      "cell_type": "markdown",
      "metadata": {
        "id": "27826e0a"
      },
      "source": [
        "While Python's automatic memory management (reference counting and garbage collection) simplifies development and reduces the burden on the programmer, there are still some challenges and considerations associated with it:\n",
        "\n",
        "1.  **Memory Leaks due to Circular References:** As mentioned earlier, while the cyclic garbage collector handles most circular references, it's not always foolproof. Complex data structures with intricate circular dependencies can sometimes lead to objects not being properly collected, resulting in memory leaks. This can be particularly challenging to debug in large applications.\n",
        "\n",
        "2.  **Unpredictable Timing of Garbage Collection:** The exact timing of when the cyclic garbage collector runs is not guaranteed. This can make it difficult to predict when memory will be reclaimed, which can be a concern in applications with strict memory requirements or real-time constraints.\n",
        "\n",
        "3.  **Overhead of Reference Counting:** Although reference counting is generally efficient, it does add a small overhead to every object creation and destruction. While typically negligible, in performance-critical applications dealing with a massive number of short-lived objects, this overhead could become a factor.\n",
        "\n",
        "4.  **Global Interpreter Lock (GIL) and Multithreading:** While not directly a memory management issue, the GIL in CPython can interact with memory-intensive multithreaded applications. The GIL prevents multiple native threads from executing Python bytecode simultaneously. This can affect how memory is accessed and managed in multithreaded scenarios, potentially leading to performance bottlenecks if not handled carefully.\n",
        "\n",
        "5.  **Memory Fragmentation:** Over time, as objects are allocated and deallocated, the free memory in the heap can become fragmented into small, non-contiguous blocks. While Python's memory allocator tries to mitigate this, severe fragmentation can make it difficult to allocate large objects, even if there is enough total free memory.\n",
        "\n",
        "6.  **Debugging Memory Issues:** While Python provides tools and modules (`gc`, `objgraph`, `memory_profiler`) to help with memory debugging, identifying and diagnosing memory leaks or excessive memory consumption can still be challenging, especially in complex applications.\n",
        "\n",
        "7.  **Integration with External Libraries:** When using external libraries (especially those written in C or C++), memory management can become more complex. If these libraries don't interact correctly with Python's memory management system, it can lead to crashes or memory corruption.\n"
      ]
    },
    {
      "cell_type": "markdown",
      "source": [
        "24.How do you raise an exception manually in python ?"
      ],
      "metadata": {
        "id": "4BfWkcLe0rbQ"
      }
    },
    {
      "cell_type": "markdown",
      "metadata": {
        "id": "945b7ed1"
      },
      "source": [
        "In Python, you can raise an exception manually using the `raise` keyword. This is useful when you encounter a situation in your code that you want to signal as an error or an exceptional condition.\n",
        "\n",
        "The basic syntax is:"
      ]
    },
    {
      "cell_type": "code",
      "metadata": {
        "id": "ba05e312"
      },
      "source": [
        "def divide(a, b):\n",
        "    if b == 0:\n",
        "        raise ValueError(\"Cannot divide by zero!\")\n",
        "    return a / b\n",
        "\n",
        "try:\n",
        "    result = divide(10, 0)\n",
        "except ValueError as e:\n",
        "    print(f\"Caught an exception: {e}\")"
      ],
      "execution_count": null,
      "outputs": []
    },
    {
      "cell_type": "markdown",
      "source": [
        "25.Why is it important to use multithreading in certain applications ?"
      ],
      "metadata": {
        "id": "OfzLI92a1_J-"
      }
    },
    {
      "cell_type": "markdown",
      "metadata": {
        "id": "d2695e8e"
      },
      "source": [
        "Using multithreading can be important in certain applications, particularly when dealing with tasks that involve waiting for external events or resources (I/O-bound tasks). Here's why:\n",
        "\n",
        "1.  **Improved Responsiveness:** In applications with a graphical user interface (GUI) or network interactions, multithreading can prevent the application from freezing or becoming unresponsive while waiting for a task to complete. One thread can handle the user interface while another thread performs a time-consuming operation in the background.\n",
        "\n",
        "2.  **Handling Multiple Clients/Requests:** For server applications, multithreading allows the server to handle multiple client requests concurrently. Each request can be processed by a separate thread, enabling the server to serve many clients at the same time without blocking.\n",
        "\n",
        "3.  **I/O-Bound Task Efficiency:** In Python (specifically CPython, due to the GIL), multithreading is most effective for I/O-bound tasks, such as reading from or writing to files, making network requests, or waiting for user input. When a thread is waiting for an I/O operation to complete, the GIL is released, allowing other threads to execute Python bytecode. This allows for better utilization of resources and can significantly improve the performance of applications that spend a lot of time waiting.\n",
        "\n",
        "4.  **Simpler Design for Concurrent Tasks:** For certain types of concurrent tasks, using threads can lead to a simpler and more intuitive program design compared to using multiple processes. Threads share the same memory space, which can make it easier to share data between different parts of the program (though this also requires careful synchronization to avoid issues).\n",
        "\n",
        "5.  **Lower Overhead (Compared to Multiprocessing):** Creating and managing threads generally has lower overhead compared to creating and managing processes. This can make multithreading a more suitable choice for applications that need to create and manage a large number of concurrent tasks.\n"
      ]
    },
    {
      "cell_type": "markdown",
      "source": [
        "**PRACTICAL QUESTIONS**"
      ],
      "metadata": {
        "id": "Hsa8vv4r275i"
      }
    },
    {
      "cell_type": "markdown",
      "source": [
        "1.How can you open a file for writing in python and write a string into it ?"
      ],
      "metadata": {
        "id": "n_8KYD2b3GFo"
      }
    },
    {
      "cell_type": "code",
      "metadata": {
        "colab": {
          "base_uri": "https://localhost:8080/"
        },
        "id": "707bb3e5",
        "outputId": "ccae63b6-0233-4185-85a6-08e2ade229d7"
      },
      "source": [
        "# Open a file named \"my_output_file.txt\" in write mode ('w')\n",
        "# If the file exists, its content will be erased. If not, a new file will be created.\n",
        "try:\n",
        "    with open(\"myfile.txt\", \"w\") as file:\n",
        "        # Write a string to the file\n",
        "        file.write(\"This is my first string\\n\")\n",
        "        file.write(\"This is another line.\")\n",
        "    print(\"Successfully wrote to the file.\")\n",
        "\n",
        "except IOError as e:\n",
        "    print(f\"Error writing to file: {e}\")"
      ],
      "execution_count": 21,
      "outputs": [
        {
          "output_type": "stream",
          "name": "stdout",
          "text": [
            "Successfully wrote to the file.\n"
          ]
        }
      ]
    },
    {
      "cell_type": "markdown",
      "source": [
        "2.Write a python program to read the contents of a file and print each line ."
      ],
      "metadata": {
        "id": "u5yVyfao6bF1"
      }
    },
    {
      "cell_type": "code",
      "metadata": {
        "colab": {
          "base_uri": "https://localhost:8080/"
        },
        "id": "453ec866",
        "outputId": "9b422bf7-c0aa-4071-aaca-93eaa202e73e"
      },
      "source": [
        "\n",
        "file_name = \"myfile.txt\"\n",
        "\n",
        "try:\n",
        "    # Open the file in read mode ('r') using a with statement\n",
        "    with open(file_name, 'r') as file:\n",
        "        # Read and print each line\n",
        "        for line in file:\n",
        "            print(line, end='') # Use end='' to avoid extra newlines\n",
        "\n",
        "except FileNotFoundError:\n",
        "    print(f\"Error: The file '{file_name}' was not found.\")\n",
        "except Exception as e:\n",
        "    print(f\"An error occurred: {e}\")"
      ],
      "execution_count": 4,
      "outputs": [
        {
          "output_type": "stream",
          "name": "stdout",
          "text": [
            "This is my first string\n",
            "This is another line."
          ]
        }
      ]
    },
    {
      "cell_type": "markdown",
      "source": [
        "3.How would you handle a case where the file doesn't exist while trying to open it for reading ?"
      ],
      "metadata": {
        "id": "YN_vMQwi9VTA"
      }
    },
    {
      "cell_type": "code",
      "metadata": {
        "colab": {
          "base_uri": "https://localhost:8080/"
        },
        "id": "7dd53b6a",
        "outputId": "6a00a657-9ee8-485e-e506-15dfe8812e4f"
      },
      "source": [
        "file_name = \"non_existent_file.txt\"\n",
        "\n",
        "try:\n",
        "    # Attempt to open the file for reading\n",
        "    with open(file_name, 'r') as file:\n",
        "        content = file.read()\n",
        "        print(content)\n",
        "except FileNotFoundError:\n",
        "    # This block will be executed if the FileNotFoundError occurs\n",
        "    print(f\"Error: The file '{file_name}' was not found.\")\n",
        "except Exception as e:\n",
        "    # This general except block can catch other potential errors\n",
        "    print(f\"An unexpected error occurred: {e}\")\n",
        "\n",
        "print(\"Program continues after handling the potential error.\")"
      ],
      "execution_count": 5,
      "outputs": [
        {
          "output_type": "stream",
          "name": "stdout",
          "text": [
            "Error: The file 'non_existent_file.txt' was not found.\n",
            "Program continues after handling the potential error.\n"
          ]
        }
      ]
    },
    {
      "cell_type": "markdown",
      "source": [
        "4.write a python script that reads from one file and write its content to another file ."
      ],
      "metadata": {
        "id": "d0QEmmuJ3qk3"
      }
    },
    {
      "cell_type": "code",
      "metadata": {
        "id": "bee8cfd5"
      },
      "source": [
        "def copy_file_content(input_filename, output_filename):\n",
        "    \"\"\"\n",
        "    Reads content from input_filename and writes it to output_filename.\n",
        "    Handles FileNotFoundError for the input file and other potential IOErrors.\n",
        "    \"\"\"\n",
        "    input_filename = \"myfile.txt\"\n",
        "    output_filename = \"output.txt\"\n",
        "\n",
        "    try:\n",
        "        # Open the input file for reading\n",
        "        with open(input_filename, 'r') as infile:\n",
        "            # Open the output file for writing (creates if not exists, truncates if exists)\n",
        "            with open(output_filename, 'w') as outfile:\n",
        "                # Read content from input and write to output line by line\n",
        "                for line in infile:\n",
        "                    outfile.write(line)\n",
        "        print(f\"Successfully copied content from '{input_filename}' to '{output_filename}'.\")\n",
        "\n",
        "    except FileNotFoundError:\n",
        "        print(f\"Error: The input file '{input_filename}' was not found.\")\n",
        "    except IOError as e:\n",
        "        print(f\"Error during file operation: {e}\")\n",
        "    except Exception as e:\n",
        "        print(f\"An unexpected error occurred: {e}\")\n",
        "\n"
      ],
      "execution_count": 26,
      "outputs": []
    },
    {
      "cell_type": "markdown",
      "source": [
        "5.How would you catch and handle division by zero error in python ?"
      ],
      "metadata": {
        "id": "wogEF_S1AQ6w"
      }
    },
    {
      "cell_type": "code",
      "metadata": {
        "colab": {
          "base_uri": "https://localhost:8080/"
        },
        "id": "cbdc85e5",
        "outputId": "b0f78299-0dd5-47f0-b9cf-a1c342d2360f"
      },
      "source": [
        "def safe_division(numerator, denominator):\n",
        "    \"\"\"\n",
        "    Performs division and handles potential ZeroDivisionError.\n",
        "    \"\"\"\n",
        "    try:\n",
        "        result = numerator / denominator\n",
        "        return result\n",
        "    except ZeroDivisionError as e :\n",
        "        print(\"Error: Cannot divide by zero!\")\n",
        "        return None  # Return None or another appropriate value to indicate failure\n",
        "\n",
        "# --- Example Usage ---\n",
        "\n",
        "# Example of successful division\n",
        "print(\"Result of 10 / 2:\", safe_division(10, 2))\n",
        "\n",
        "# Example of division by zero\n",
        "print(\"Result of 10 / 0:\", safe_division(10, 0))\n",
        "\n",
        "# Example with variables\n",
        "num = 5\n",
        "den = 0\n",
        "print(f\"Result of {num} / {den}:\", safe_division(num, den))"
      ],
      "execution_count": 16,
      "outputs": [
        {
          "output_type": "stream",
          "name": "stdout",
          "text": [
            "Result of 10 / 2: 5.0\n",
            "Error: Cannot divide by zero!\n",
            "Result of 10 / 0: None\n",
            "Error: Cannot divide by zero!\n",
            "Result of 5 / 0: None\n"
          ]
        }
      ]
    },
    {
      "cell_type": "markdown",
      "source": [
        "6.Write a python program that logs an error message to a log file when a division by zero exception occurs ."
      ],
      "metadata": {
        "id": "mJVTBGZLJkYG"
      }
    },
    {
      "cell_type": "code",
      "metadata": {
        "colab": {
          "base_uri": "https://localhost:8080/"
        },
        "id": "00c37b1a",
        "outputId": "186e6aa0-5cbb-4ae8-b23e-a2557ee69117"
      },
      "source": [
        "import logging\n",
        "\n",
        "# Configure logging to write to a file\n",
        "logging.basicConfig(filename='error.log', level=logging.ERROR,\n",
        "                    format='%(asctime)s:%(levelname)s:%(message)s')\n",
        "\n",
        "def safe_division_with_logging(numerator, denominator):\n",
        "    \"\"\"\n",
        "    Performs division and logs a ZeroDivisionError if it occurs.\n",
        "    \"\"\"\n",
        "    try:\n",
        "        result = numerator / denominator\n",
        "        return result\n",
        "    except ZeroDivisionError:\n",
        "        # Log the error message to the file\n",
        "        logging.error(\"Attempted to divide by zero!\")\n",
        "        return None\n",
        "\n",
        "# --- Example Usage ---\n",
        "\n",
        "# Example of successful division\n",
        "print(\"Result of 10 / 2:\", safe_division_with_logging(10, 2))\n",
        "\n",
        "# Example of division by zero (this will log an error)\n",
        "print(\"Result of 10 / 0:\", safe_division_with_logging(10, 0))\n",
        "\n",
        "# Example with variables\n",
        "num = 5\n",
        "den = 0\n",
        "print(f\"Result of {num} / {den}:\", safe_division_with_logging(num, den))"
      ],
      "execution_count": 17,
      "outputs": [
        {
          "output_type": "stream",
          "name": "stderr",
          "text": [
            "ERROR:root:Attempted to divide by zero!\n",
            "ERROR:root:Attempted to divide by zero!\n"
          ]
        },
        {
          "output_type": "stream",
          "name": "stdout",
          "text": [
            "Result of 10 / 2: 5.0\n",
            "Result of 10 / 0: None\n",
            "Result of 5 / 0: None\n"
          ]
        }
      ]
    },
    {
      "cell_type": "markdown",
      "source": [
        "7.How do you log infomation at different levels (INFO,ERROR,WARNING) in python using the logging module ?"
      ],
      "metadata": {
        "id": "8rV2EuH4LTKF"
      }
    },
    {
      "cell_type": "code",
      "metadata": {
        "colab": {
          "base_uri": "https://localhost:8080/"
        },
        "id": "de3bd6e2",
        "outputId": "16477d95-3d1c-4b93-b3f4-2383b0082f8a"
      },
      "source": [
        "import logging\n",
        "\n",
        "# By default, logging messages are sent to the console.\n",
        "# You can configure the basic logging settings.\n",
        "# Set the level to DEBUG to see all messages from DEBUG and above.\n",
        "logging.basicConfig(level=logging.DEBUG, format='%(asctime)s - %(levelname)s - %(message)s')\n",
        "\n",
        "# You can also create a logger object (optional for simple cases, but good practice)\n",
        "logger = logging.getLogger(__name__)\n",
        "\n",
        "# Log messages at different levels\n",
        "logger.debug(\"This is a debug message. (Lowest severity)\")\n",
        "logger.info(\"This is an info message.\")\n",
        "logger.warning(\"This is a warning message.\")\n",
        "logger.error(\"This is an error message.\")\n",
        "logger.critical(\"This is a critical message. (Highest severity)\")\n",
        "\n",
        "# You can also use the root logger directly\n",
        "logging.info(\"This is an info message using the root logger.\")"
      ],
      "execution_count": 18,
      "outputs": [
        {
          "output_type": "stream",
          "name": "stderr",
          "text": [
            "WARNING:__main__:This is a warning message.\n",
            "ERROR:__main__:This is an error message.\n",
            "CRITICAL:__main__:This is a critical message. (Highest severity)\n"
          ]
        }
      ]
    },
    {
      "cell_type": "markdown",
      "source": [
        "8.Write a program to handle a file opening error using exception handling ."
      ],
      "metadata": {
        "id": "XD_TdMRmRYpz"
      }
    },
    {
      "cell_type": "code",
      "metadata": {
        "colab": {
          "base_uri": "https://localhost:8080/"
        },
        "id": "a9af7bf2",
        "outputId": "ad546a54-0cec-4284-8abe-a81f8b2031b5"
      },
      "source": [
        "def open_and_read_file(filename):\n",
        "    \"\"\"\n",
        "    Attempts to open and read a file, handling FileNotFoundError.\n",
        "    \"\"\"\n",
        "    try:\n",
        "        # Attempt to open the file in read mode ('r')\n",
        "        with open(filename, 'r') as file:\n",
        "            content = file.read()\n",
        "            print(f\"Successfully read content from '{filename}':\")\n",
        "            print(content)\n",
        "            return content\n",
        "    except FileNotFoundError:\n",
        "        # This block is executed if the file does not exist\n",
        "        print(f\"Error: The file '{filename}' was not found.\")\n",
        "        return None\n",
        "    except IOError as e:\n",
        "        # This block handles other potential I/O errors (e.g., permissions)\n",
        "        print(f\"Error reading file '{filename}': {e}\")\n",
        "        return None\n",
        "    except Exception as e:\n",
        "        # This general except block can catch other unexpected errors\n",
        "        print(f\"An unexpected error occurred while processing '{filename}': {e}\")\n",
        "        return None\n",
        "\n",
        "# --- Example Usage ---\n",
        "\n",
        "# Example with an existing file (assuming \"myfile.txt\" exists from previous examples)\n",
        "print(\"--- Trying to open an existing file ---\")\n",
        "open_and_read_file(\"myfile.txt\")\n",
        "\n",
        "print(\"\\n--- Trying to open a non-existent file ---\")\n",
        "# Example with a non-existent file\n",
        "open_and_read_file(\"non_existent_file.txt\")"
      ],
      "execution_count": 23,
      "outputs": [
        {
          "output_type": "stream",
          "name": "stdout",
          "text": [
            "--- Trying to open an existing file ---\n",
            "Successfully read content from 'myfile.txt':\n",
            "This is my first string\n",
            "This is another line.\n",
            "\n",
            "--- Trying to open a non-existent file ---\n",
            "Error: The file 'non_existent_file.txt' was not found.\n"
          ]
        }
      ]
    },
    {
      "cell_type": "markdown",
      "source": [
        "9.How can you read a file line by line and store its content in a list in python ?"
      ],
      "metadata": {
        "id": "Wdwm7qLYSH4o"
      }
    },
    {
      "cell_type": "code",
      "metadata": {
        "colab": {
          "base_uri": "https://localhost:8080/"
        },
        "id": "5e1ed479",
        "outputId": "df48948c-ecca-42af-de00-ef97adaa782f"
      },
      "source": [
        "def read_file_to_list(filename):\n",
        "    \"\"\"\n",
        "    Reads a file line by line and stores the content in a list.\n",
        "    Handles FileNotFoundError.\n",
        "    \"\"\"\n",
        "    lines = []\n",
        "    try:\n",
        "        with open(filename, 'r') as file:\n",
        "            for line in file:\n",
        "                # You might want to strip whitespace characters like newline at the end of each line\n",
        "                lines.append(line.strip())\n",
        "        print(f\"Successfully read '{filename}' and stored content in a list.\")\n",
        "        return lines\n",
        "    except FileNotFoundError:\n",
        "        print(f\"Error: The file '{filename}' was not found.\")\n",
        "        return None\n",
        "    except Exception as e:\n",
        "        print(f\"An unexpected error occurred while reading '{filename}': {e}\")\n",
        "        return None\n",
        "\n",
        "# --- Example Usage ---\n",
        "\n",
        "# Assuming \"myfile.txt\" exists from previous examples\n",
        "file_name = \"myfile.txt\"\n",
        "file_content_list = read_file_to_list(file_name)\n",
        "\n",
        "if file_content_list is not None:\n",
        "    print(\"\\nContent of the list:\")\n",
        "    print(file_content_list)\n",
        "\n",
        "# Example with a non-existent file\n",
        "print(\"\\n--- Trying to read a non-existent file ---\")\n",
        "non_existent_file = \"non_existent_file_for_list.txt\"\n",
        "read_file_to_list(non_existent_file)"
      ],
      "execution_count": 22,
      "outputs": [
        {
          "output_type": "stream",
          "name": "stdout",
          "text": [
            "Successfully read 'myfile.txt' and stored content in a list.\n",
            "\n",
            "Content of the list:\n",
            "['This is my first string', 'This is another line.']\n",
            "\n",
            "--- Trying to read a non-existent file ---\n",
            "Error: The file 'non_existent_file_for_list.txt' was not found.\n"
          ]
        }
      ]
    },
    {
      "cell_type": "markdown",
      "source": [
        "10.How can you append data to an existing file in python ?"
      ],
      "metadata": {
        "id": "3FCgB0cUUhzf"
      }
    },
    {
      "cell_type": "code",
      "metadata": {
        "colab": {
          "base_uri": "https://localhost:8080/"
        },
        "id": "aef08c8a",
        "outputId": "d47a0b35-b8aa-4d70-e4f1-3694a55597b7"
      },
      "source": [
        "\n",
        "file_name = \"myfile.txt\"\n",
        "data_to_append = \"\\nThis is a new line appended to the file.\"\n",
        "\n",
        "try:\n",
        "    # Open the file in append mode ('a')\n",
        "    with open(file_name, 'a') as file:\n",
        "        # Write the data to the end of the file\n",
        "        file.write(data_to_append)\n",
        "    print(f\"Successfully appended data to '{file_name}'.\")\n",
        "\n",
        "except FileNotFoundError:\n",
        "    # This might happen if the file was deleted between checking and opening\n",
        "    print(f\"Error: The file '{file_name}' was not found.\")\n",
        "except IOError as e:\n",
        "    print(f\"Error appending to file '{file_name}': {e}\")\n",
        "except Exception as e:\n",
        "    print(f\"An unexpected error occurred while appending to '{file_name}': {e}\")\n",
        "\n",
        "# You can verify the content by reading the file\n",
        "print(\"\\nReading the file after appending:\")\n",
        "try:\n",
        "    with open(file_name, 'r') as file:\n",
        "        content = file.read()\n",
        "        print(content)\n",
        "except FileNotFoundError:\n",
        "    print(f\"Error: The file '{file_name}' was not found for reading.\")\n",
        "except Exception as e:\n",
        "    print(f\"An error occurred while reading '{file_name}': {e}\")"
      ],
      "execution_count": 27,
      "outputs": [
        {
          "output_type": "stream",
          "name": "stdout",
          "text": [
            "Successfully appended data to 'myfile.txt'.\n",
            "\n",
            "Reading the file after appending:\n",
            "This is my first string\n",
            "This is another line.\n",
            "This is a new line appended to the file.\n"
          ]
        }
      ]
    },
    {
      "cell_type": "markdown",
      "source": [
        "11.Write a python program that uses a try-except block to handle an error when attempting to access a dictionary key that doesn't exist ."
      ],
      "metadata": {
        "id": "Z_hDrC1nWBgD"
      }
    },
    {
      "cell_type": "code",
      "metadata": {
        "colab": {
          "base_uri": "https://localhost:8080/"
        },
        "id": "a716ea7c",
        "outputId": "ebb92a06-f8e0-4d2d-a67d-36ce98f69d91"
      },
      "source": [
        "def get_value_from_dict(dictionary, key):\n",
        "    \"\"\"\n",
        "    Attempts to access a dictionary key and handles KeyError if it doesn't exist.\n",
        "    \"\"\"\n",
        "    try:\n",
        "        value = dictionary[key]\n",
        "        print(f\"Successfully accessed key '{key}'. Value: {value}\")\n",
        "        return value\n",
        "    except KeyError:\n",
        "        print(f\"Error: Key '{key}' not found in the dictionary.\")\n",
        "        return None  # Return None or another appropriate value to indicate key not found\n",
        "    except Exception as e:\n",
        "        print(f\"An unexpected error occurred: {e}\")\n",
        "        return None\n",
        "\n",
        "# --- Example Usage ---\n",
        "\n",
        "my_dict = {\"apple\": 1, \"banana\": 2, \"cherry\": 3}\n",
        "\n",
        "# Example of accessing an existing key\n",
        "print(\"--- Accessing an existing key ---\")\n",
        "get_value_from_dict(my_dict, \"banana\")\n",
        "\n",
        "print(\"\\n--- Accessing a non-existent key ---\")\n",
        "# Example of accessing a non-existent key\n",
        "get_value_from_dict(my_dict, \"grape\")\n",
        "\n",
        "print(\"\\n--- Accessing another non-existent key ---\")\n",
        "get_value_from_dict(my_dict, \"orange\")"
      ],
      "execution_count": 28,
      "outputs": [
        {
          "output_type": "stream",
          "name": "stdout",
          "text": [
            "--- Accessing an existing key ---\n",
            "Successfully accessed key 'banana'. Value: 2\n",
            "\n",
            "--- Accessing a non-existent key ---\n",
            "Error: Key 'grape' not found in the dictionary.\n",
            "\n",
            "--- Accessing another non-existent key ---\n",
            "Error: Key 'orange' not found in the dictionary.\n"
          ]
        }
      ]
    },
    {
      "cell_type": "markdown",
      "source": [
        "12.Write a program that demonstrates using multiple except blocks to handle different types of exception ."
      ],
      "metadata": {
        "id": "mZmfbCqvWBP1"
      }
    },
    {
      "cell_type": "code",
      "metadata": {
        "colab": {
          "base_uri": "https://localhost:8080/"
        },
        "id": "417b43c7",
        "outputId": "ae908ecf-7fe2-4db9-a3fb-5a87d9a63056"
      },
      "source": [
        "def perform_operations(data, index, divisor):\n",
        "    \"\"\"\n",
        "    Performs operations that might raise different exceptions.\n",
        "    \"\"\"\n",
        "    try:\n",
        "        # Operation that might raise TypeError or ValueError\n",
        "        value = int(data)\n",
        "\n",
        "        # Operation that might raise IndexError\n",
        "        item = data[index]\n",
        "\n",
        "        # Operation that might raise ZeroDivisionError\n",
        "        result = value / divisor\n",
        "\n",
        "        print(f\"Operation successful: item = {item}, result = {result}\")\n",
        "\n",
        "    except ValueError:\n",
        "        print(\"Error: Could not convert data to an integer.\")\n",
        "    except IndexError:\n",
        "        print(\"Error: Index is out of bounds for the data.\")\n",
        "    except ZeroDivisionError:\n",
        "        print(\"Error: Cannot divide by zero.\")\n",
        "    except Exception as e:\n",
        "        print(f\"An unexpected error occurred: {e}\")\n",
        "\n",
        "# --- Example Usage ---\n",
        "\n",
        "print(\"--- Example with no errors ---\")\n",
        "perform_operations(\"10\", 1, 2)\n",
        "\n",
        "print(\"\\n--- Example with ValueError ---\")\n",
        "perform_operations(\"abc\", 1, 2)\n",
        "\n",
        "print(\"\\n--- Example with IndexError ---\")\n",
        "perform_operations(\"10\", 5, 2)\n",
        "\n",
        "print(\"\\n--- Example with ZeroDivisionError ---\")\n",
        "perform_operations(\"10\", 1, 0)\n",
        "\n",
        "print(\"\\n--- Example with an unexpected error (e.g., TypeError if data is not a string/list) ---\")\n",
        "perform_operations(10, 0, 2)"
      ],
      "execution_count": 29,
      "outputs": [
        {
          "output_type": "stream",
          "name": "stdout",
          "text": [
            "--- Example with no errors ---\n",
            "Operation successful: item = 0, result = 5.0\n",
            "\n",
            "--- Example with ValueError ---\n",
            "Error: Could not convert data to an integer.\n",
            "\n",
            "--- Example with IndexError ---\n",
            "Error: Index is out of bounds for the data.\n",
            "\n",
            "--- Example with ZeroDivisionError ---\n",
            "Error: Cannot divide by zero.\n",
            "\n",
            "--- Example with an unexpected error (e.g., TypeError if data is not a string/list) ---\n",
            "An unexpected error occurred: 'int' object is not subscriptable\n"
          ]
        }
      ]
    },
    {
      "cell_type": "markdown",
      "source": [
        "13.how would you check if a file exists before attempting to read it in python ?"
      ],
      "metadata": {
        "id": "jVHqH4IxYdoN"
      }
    },
    {
      "cell_type": "code",
      "metadata": {
        "colab": {
          "base_uri": "https://localhost:8080/"
        },
        "id": "45082764",
        "outputId": "87512719-bc2b-46c3-d96b-1cb8291e4fb0"
      },
      "source": [
        "import os\n",
        "\n",
        "file_name = \"myfile.txt\"\n",
        "\n",
        "if os.path.exists(file_name):\n",
        "    try:\n",
        "        with open(file_name, 'r') as file:\n",
        "            content = file.read()\n",
        "            print(f\"File '{file_name}' exists. Content:\")\n",
        "            print(content)\n",
        "    except IOError as e:\n",
        "        print(f\"Error reading file '{file_name}': {e}\")\n",
        "else:\n",
        "    print(f\"Error: The file '{file_name}' does not exist.\")\n",
        "\n",
        "print(\"\\n--- Checking for a non-existent file ---\")\n",
        "non_existent_file = \"non_existent_file_check.txt\"\n",
        "\n",
        "if os.path.exists(non_existent_file):\n",
        "     try:\n",
        "        with open(non_existent_file, 'r') as file:\n",
        "            content = file.read()\n",
        "            print(f\"File '{non_existent_file}' exists. Content:\")\n",
        "            print(content)\n",
        "     except IOError as e:\n",
        "        print(f\"Error reading file '{non_existent_file}': {e}\")\n",
        "else:\n",
        "    print(f\"Error: The file '{non_existent_file}' does not exist.\")"
      ],
      "execution_count": 30,
      "outputs": [
        {
          "output_type": "stream",
          "name": "stdout",
          "text": [
            "File 'myfile.txt' exists. Content:\n",
            "This is my first string\n",
            "This is another line.\n",
            "This is a new line appended to the file.\n",
            "\n",
            "--- Checking for a non-existent file ---\n",
            "Error: The file 'non_existent_file_check.txt' does not exist.\n"
          ]
        }
      ]
    },
    {
      "cell_type": "markdown",
      "metadata": {
        "id": "3f3c8ab9"
      },
      "source": [
        "**2. Using `try...except FileNotFoundError` (EAFP - Easier to Ask for Forgiveness than Permission):**"
      ]
    },
    {
      "cell_type": "code",
      "metadata": {
        "colab": {
          "base_uri": "https://localhost:8080/"
        },
        "id": "dbb2f9f7",
        "outputId": "0ea5a5af-5b35-41ef-872c-e4930e62ff10"
      },
      "source": [
        "file_name = \"myfile.txt\"\n",
        "\n",
        "try:\n",
        "    with open(file_name, 'r') as file:\n",
        "        content = file.read()\n",
        "        print(f\"Successfully opened and read '{file_name}'. Content:\")\n",
        "        print(content)\n",
        "except FileNotFoundError:\n",
        "    print(f\"Error: The file '{file_name}' was not found.\")\n",
        "except IOError as e:\n",
        "    print(f\"Error reading file '{file_name}': {e}\")\n",
        "except Exception as e:\n",
        "    print(f\"An unexpected error occurred: {e}\")\n",
        "\n",
        "print(\"\\n--- Trying to open a non-existent file ---\")\n",
        "non_existent_file = \"non_existent_file_try_except.txt\"\n",
        "\n",
        "try:\n",
        "    with open(non_existent_file, 'r') as file:\n",
        "        content = file.read()\n",
        "        print(f\"Successfully opened and read '{non_existent_file}'. Content:\")\n",
        "        print(content)\n",
        "except FileNotFoundError:\n",
        "    print(f\"Error: The file '{non_existent_file}' was not found.\")\n",
        "except IOError as e:\n",
        "    print(f\"Error reading file '{non_existent_file}': {e}\")\n",
        "except Exception as e:\n",
        "    print(f\"An unexpected error occurred: {e}\")"
      ],
      "execution_count": 31,
      "outputs": [
        {
          "output_type": "stream",
          "name": "stdout",
          "text": [
            "Successfully opened and read 'myfile.txt'. Content:\n",
            "This is my first string\n",
            "This is another line.\n",
            "This is a new line appended to the file.\n",
            "\n",
            "--- Trying to open a non-existent file ---\n",
            "Error: The file 'non_existent_file_try_except.txt' was not found.\n"
          ]
        }
      ]
    },
    {
      "cell_type": "markdown",
      "source": [
        "14.Write a program that uses that logging module to log both informational and error message ."
      ],
      "metadata": {
        "id": "8dGkpR16Ze8W"
      }
    },
    {
      "cell_type": "code",
      "metadata": {
        "colab": {
          "base_uri": "https://localhost:8080/"
        },
        "id": "c96676db",
        "outputId": "c473a31a-5185-42e1-f786-25da407ebfda"
      },
      "source": [
        "import logging\n",
        "\n",
        "# Configure logging\n",
        "# By default, logging messages are sent to the console.\n",
        "# Set the level to INFO to see messages from INFO and above (INFO, WARNING, ERROR, CRITICAL).\n",
        "logging.basicConfig(level=logging.INFO, format='%(asctime)s - %(levelname)s - %(message)s')\n",
        "\n",
        "# Get a logger instance (optional for simple cases, but good practice)\n",
        "logger = logging.getLogger(__name__)\n",
        "\n",
        "print(\"Before divide_and_log calls\")\n",
        "\n",
        "def divide_and_log(numerator, denominator):\n",
        "    \"\"\"\n",
        "    Performs division and logs informational or error messages.\n",
        "    \"\"\"\n",
        "    print(f\"Inside divide_and_log with numerator={numerator}, denominator={denominator}\")\n",
        "    try:\n",
        "        result = numerator / denominator\n",
        "        logger.info(f\"Division successful: {numerator} / {denominator} = {result}\")\n",
        "        print(\"Division successful\")\n",
        "        return result\n",
        "    except ZeroDivisionError:\n",
        "        logger.error(f\"Attempted to divide by zero: {numerator} / {denominator}\")\n",
        "        print(\"Caught ZeroDivisionError\")\n",
        "        return None\n",
        "    except Exception as e:\n",
        "        print(f\"Caught unexpected exception: {e}\")\n",
        "        return None\n",
        "\n",
        "# --- Example Usage ---\n",
        "\n",
        "print(\"--- Performing successful division ---\")\n",
        "divide_and_log(10, 2)\n",
        "\n",
        "print(\"\\n--- Attempting division by zero ---\")\n",
        "divide_and_log(10, 0)\n",
        "\n",
        "print(\"\\n--- Performing another successful division ---\")\n",
        "divide_and_log(100, 5)\n",
        "\n",
        "print(\"After divide_and_log calls\")"
      ],
      "execution_count": 33,
      "outputs": [
        {
          "output_type": "stream",
          "name": "stderr",
          "text": [
            "ERROR:__main__:Attempted to divide by zero: 10 / 0\n"
          ]
        },
        {
          "output_type": "stream",
          "name": "stdout",
          "text": [
            "Before divide_and_log calls\n",
            "--- Performing successful division ---\n",
            "Inside divide_and_log with numerator=10, denominator=2\n",
            "Division successful\n",
            "\n",
            "--- Attempting division by zero ---\n",
            "Inside divide_and_log with numerator=10, denominator=0\n",
            "Caught ZeroDivisionError\n",
            "\n",
            "--- Performing another successful division ---\n",
            "Inside divide_and_log with numerator=100, denominator=5\n",
            "Division successful\n",
            "After divide_and_log calls\n"
          ]
        }
      ]
    },
    {
      "cell_type": "markdown",
      "source": [
        "15.write a python program that print the content of a file and handles the case when the file is empty ."
      ],
      "metadata": {
        "id": "BA0CkkNkdIpa"
      }
    },
    {
      "cell_type": "code",
      "metadata": {
        "colab": {
          "base_uri": "https://localhost:8080/"
        },
        "id": "596b5cdb",
        "outputId": "a23cbd89-98cb-4c13-b234-99bdac992ee0"
      },
      "source": [
        "def print_file_content_and_handle_empty(filename):\n",
        "    \"\"\"\n",
        "    Reads and prints the content of a file, handling FileNotFoundError and empty files.\n",
        "    \"\"\"\n",
        "    try:\n",
        "        with open(filename, 'r') as file:\n",
        "            content = file.read()\n",
        "            if content:\n",
        "                print(f\"Content of '{filename}':\")\n",
        "                print(content)\n",
        "            else:\n",
        "                print(f\"The file '{filename}' is empty.\")\n",
        "    except FileNotFoundError:\n",
        "        print(f\"Error: The file '{filename}' was not found.\")\n",
        "    except IOError as e:\n",
        "        print(f\"Error reading file '{filename}': {e}\")\n",
        "    except Exception as e:\n",
        "        print(f\"An unexpected error occurred while processing '{filename}': {e}\")\n",
        "\n",
        "# --- Example Usage ---\n",
        "\n",
        "# Example with an existing file with content (assuming \"myfile.txt\" has content)\n",
        "print(\"--- Trying to print content of a file with content ---\")\n",
        "print_file_content_and_handle_empty(\"myfile.txt\")\n",
        "\n",
        "# Example with a non-existent file\n",
        "print(\"\\n--- Trying to print content of a non-existent file ---\")\n",
        "print_file_content_and_handle_empty(\"non_existent_file_for_empty_check.txt\")\n",
        "\n",
        "# Example with an empty file\n",
        "# Create an empty file for testing\n",
        "empty_file_name = \"empty_file.txt\"\n",
        "try:\n",
        "    with open(empty_file_name, 'w') as empty_file:\n",
        "        pass # Create an empty file\n",
        "    print(f\"\\n--- Trying to print content of an empty file ('{empty_file_name}') ---\")\n",
        "    print_file_content_and_handle_empty(empty_file_name)\n",
        "except IOError as e:\n",
        "    print(f\"\\nError creating empty file for test: {e}\")"
      ],
      "execution_count": 34,
      "outputs": [
        {
          "output_type": "stream",
          "name": "stdout",
          "text": [
            "--- Trying to print content of a file with content ---\n",
            "Content of 'myfile.txt':\n",
            "This is my first string\n",
            "This is another line.\n",
            "This is a new line appended to the file.\n",
            "\n",
            "--- Trying to print content of a non-existent file ---\n",
            "Error: The file 'non_existent_file_for_empty_check.txt' was not found.\n",
            "\n",
            "--- Trying to print content of an empty file ('empty_file.txt') ---\n",
            "The file 'empty_file.txt' is empty.\n"
          ]
        }
      ]
    },
    {
      "cell_type": "markdown",
      "source": [
        "17.write a python program to create and write a list of numbers to a file , one number per line ."
      ],
      "metadata": {
        "id": "33pqMYE8gCl3"
      }
    },
    {
      "cell_type": "code",
      "metadata": {
        "colab": {
          "base_uri": "https://localhost:8080/"
        },
        "id": "11f5a55a",
        "outputId": "4e083206-1ee1-4f08-da85-614fa7edecb8"
      },
      "source": [
        "def write_numbers_to_file(filename, number_list):\n",
        "    \"\"\"\n",
        "    Writes a list of numbers to a file, one number per line.\n",
        "    Handles potential IOErrors.\n",
        "    \"\"\"\n",
        "    try:\n",
        "        with open(filename, 'w') as file:\n",
        "            for number in number_list:\n",
        "                file.write(f\"{number}\\n\")  # Write each number followed by a newline\n",
        "        print(f\"Successfully wrote numbers to '{filename}'.\")\n",
        "\n",
        "    except IOError as e:\n",
        "        print(f\"Error writing to file '{filename}': {e}\")\n",
        "    except Exception as e:\n",
        "        print(f\"An unexpected error occurred: {e}\")\n",
        "\n",
        "# --- Example Usage ---\n",
        "\n",
        "# Create a list of numbers\n",
        "my_numbers = [10, 25, 5, 42, 8, 99, 1, 73]\n",
        "\n",
        "# Specify the output filename\n",
        "output_file = \"numbers_list.txt\"\n",
        "\n",
        "# Write the list of numbers to the file\n",
        "write_numbers_to_file(output_file, my_numbers)\n",
        "\n",
        "# You can verify the content by reading the file\n",
        "print(\"\\nReading the file content:\")\n",
        "try:\n",
        "    with open(output_file, 'r') as file:\n",
        "        content = file.read()\n",
        "        print(content)\n",
        "except FileNotFoundError:\n",
        "    print(f\"Error: The file '{output_file}' was not found for reading.\")\n",
        "except Exception as e:\n",
        "    print(f\"An error occurred while reading '{output_file}': {e}\")"
      ],
      "execution_count": 38,
      "outputs": [
        {
          "output_type": "stream",
          "name": "stdout",
          "text": [
            "Successfully wrote numbers to 'numbers_list.txt'.\n",
            "\n",
            "Reading the file content:\n",
            "10\n",
            "25\n",
            "5\n",
            "42\n",
            "8\n",
            "99\n",
            "1\n",
            "73\n",
            "\n"
          ]
        }
      ]
    },
    {
      "cell_type": "markdown",
      "source": [
        "18.write a python program that handles both indexerror and keyerror using a try-except block ."
      ],
      "metadata": {
        "id": "soA8IQQMhN5h"
      }
    },
    {
      "cell_type": "code",
      "metadata": {
        "colab": {
          "base_uri": "https://localhost:8080/"
        },
        "id": "d45e98c7",
        "outputId": "a874a49d-d609-427b-fee7-5c8a13fece6e"
      },
      "source": [
        "def access_data(data_source, key_or_index):\n",
        "    \"\"\"\n",
        "    Attempts to access data from a dictionary or a list and handles KeyError or IndexError.\n",
        "    \"\"\"\n",
        "    try:\n",
        "        # Attempt to access data using the provided key or index\n",
        "        # This might raise a KeyError if data_source is a dictionary and the key doesn't exist\n",
        "        # This might raise an IndexError if data_source is a list and the index is out of bounds\n",
        "        value = data_source[key_or_index]\n",
        "        print(f\"Successfully accessed data with key/index '{key_or_index}'. Value: {value}\")\n",
        "        return value\n",
        "    except KeyError:\n",
        "        print(f\"Error: Key '{key_or_index}' not found in the dictionary.\")\n",
        "        return None\n",
        "    except IndexError:\n",
        "        print(f\"Error: Index '{key_or_index}' is out of bounds for the list.\")\n",
        "        return None\n",
        "    except Exception as e:\n",
        "        print(f\"An unexpected error occurred: {e}\")\n",
        "        return None\n",
        "\n",
        "# --- Example Usage ---\n",
        "\n",
        "my_dict = {\"apple\": 1, \"banana\": 2, \"cherry\": 3}\n",
        "my_list = [10, 20, 30, 40]\n",
        "\n",
        "print(\"--- Accessing data from a dictionary ---\")\n",
        "access_data(my_dict, \"banana\")   # Existing key\n",
        "access_data(my_dict, \"grape\")    # Non-existent key (KeyError)\n",
        "\n",
        "print(\"\\n--- Accessing data from a list ---\")\n",
        "access_data(my_list, 2)          # Valid index\n",
        "access_data(my_list, 10)         # Invalid index (IndexError)\n",
        "\n",
        "print(\"\\n--- Accessing data from a dictionary with an index (TypeError) ---\")\n",
        "access_data(my_dict, 0)          # Accessing dictionary with index (TypeError - caught by general Exception)"
      ],
      "execution_count": 39,
      "outputs": [
        {
          "output_type": "stream",
          "name": "stdout",
          "text": [
            "--- Accessing data from a dictionary ---\n",
            "Successfully accessed data with key/index 'banana'. Value: 2\n",
            "Error: Key 'grape' not found in the dictionary.\n",
            "\n",
            "--- Accessing data from a list ---\n",
            "Successfully accessed data with key/index '2'. Value: 30\n",
            "Error: Index '10' is out of bounds for the list.\n",
            "\n",
            "--- Accessing data from a dictionary with an index (TypeError) ---\n",
            "Error: Key '0' not found in the dictionary.\n"
          ]
        }
      ]
    },
    {
      "cell_type": "markdown",
      "source": [
        "19.How would you open a file and read its contents using a context manager in python ?"
      ],
      "metadata": {
        "id": "s0Z_kO6viUW3"
      }
    },
    {
      "cell_type": "code",
      "metadata": {
        "colab": {
          "base_uri": "https://localhost:8080/"
        },
        "id": "fa7b3aee",
        "outputId": "7d061319-0f95-48ae-b3d8-03e74ede5f0b"
      },
      "source": [
        "# Assuming \"myfile.txt\" exists from previous examples\n",
        "file_name = \"myfile.txt\"\n",
        "\n",
        "try:\n",
        "    # Use the 'with' statement to open the file\n",
        "    with open(file_name, 'r') as file:\n",
        "        # The file is automatically closed when the 'with' block is exited\n",
        "        content = file.read()\n",
        "        print(f\"Content of '{file_name}':\")\n",
        "        print(content)\n",
        "\n",
        "except FileNotFoundError:\n",
        "    print(f\"Error: The file '{file_name}' was not found.\")\n",
        "except IOError as e:\n",
        "    print(f\"Error reading file '{file_name}': {e}\")\n",
        "except Exception as e:\n",
        "    print(f\"An unexpected error occurred: {e}\")"
      ],
      "execution_count": 40,
      "outputs": [
        {
          "output_type": "stream",
          "name": "stdout",
          "text": [
            "Content of 'myfile.txt':\n",
            "This is my first string\n",
            "This is another line.\n",
            "This is a new line appended to the file.\n"
          ]
        }
      ]
    },
    {
      "cell_type": "markdown",
      "source": [
        "20.Write a python program that reads a file and prints the number of occurance of a specific word."
      ],
      "metadata": {
        "id": "hulgLfWpjkvS"
      }
    },
    {
      "cell_type": "code",
      "metadata": {
        "colab": {
          "base_uri": "https://localhost:8080/"
        },
        "id": "7ff2cd60",
        "outputId": "ba330dac-52ed-4267-f989-1c8e152ff3a1"
      },
      "source": [
        "import re # Import the regular expression module for word tokenization\n",
        "\n",
        "def count_word_occurrences(filename, word_to_count):\n",
        "    \"\"\"\n",
        "    Reads a file and counts the occurrences of a specific word.\n",
        "    Handles FileNotFoundError and potential IOErrors.\n",
        "    Counts whole words, ignoring case and punctuation attached to words.\n",
        "    \"\"\"\n",
        "    count = 0\n",
        "    try:\n",
        "        with open(filename, 'r', encoding='utf-8') as file:\n",
        "            content = file.read()\n",
        "\n",
        "            # Convert content to lowercase for case-insensitive counting\n",
        "            content_lower = content.lower()\n",
        "            word_to_count_lower = word_to_count.lower()\n",
        "\n",
        "            # Use regex to find all words in the content\n",
        "            words = re.findall(r'\\b\\w+\\b', content_lower)\n",
        "\n",
        "            # Count occurrences of the specific word\n",
        "            for word in words:\n",
        "                if word == word_to_count_lower:\n",
        "                    count += 1\n",
        "\n",
        "        print(f\"The word '{word_to_count}' appears {count} times in '{filename}'.\")\n",
        "        return count\n",
        "\n",
        "    except FileNotFoundError:\n",
        "        print(f\"Error: The file '{filename}' was not found.\")\n",
        "        return -1 # Indicate an error\n",
        "    except IOError as e:\n",
        "        print(f\"Error reading file '{filename}': {e}\")\n",
        "        return -1 # Indicate an error\n",
        "    except Exception as e:\n",
        "        print(f\"An unexpected error occurred while processing '{filename}': {e}\")\n",
        "        return -1 # Indicate an error\n",
        "\n",
        "# --- Example Usage ---\n",
        "\n",
        "# Assuming \"myfile.txt\" exists from previous examples\n",
        "file_name = \"myfile.txt\"\n",
        "word_to_find = \"this\" # The word you want to count\n",
        "\n",
        "count_word_occurrences(file_name, word_to_find)\n",
        "\n",
        "# Example with a non-existent file\n",
        "print(\"\\n--- Trying with a non-existent file ---\")\n",
        "count_word_occurrences(\"non_existent_file_for_word_count.txt\", \"test\")\n",
        "\n",
        "# Example with a word not in the file\n",
        "print(\"\\n--- Trying with a word not in the file ---\")\n",
        "count_word_occurrences(file_name, \"example\")"
      ],
      "execution_count": 41,
      "outputs": [
        {
          "output_type": "stream",
          "name": "stdout",
          "text": [
            "The word 'this' appears 3 times in 'myfile.txt'.\n",
            "\n",
            "--- Trying with a non-existent file ---\n",
            "Error: The file 'non_existent_file_for_word_count.txt' was not found.\n",
            "\n",
            "--- Trying with a word not in the file ---\n",
            "The word 'example' appears 0 times in 'myfile.txt'.\n"
          ]
        },
        {
          "output_type": "execute_result",
          "data": {
            "text/plain": [
              "0"
            ]
          },
          "metadata": {},
          "execution_count": 41
        }
      ]
    },
    {
      "cell_type": "markdown",
      "source": [
        "21.How can you check if a  file is empty before attempting to read its contents ?"
      ],
      "metadata": {
        "id": "J0_6Mwjtku9x"
      }
    },
    {
      "cell_type": "code",
      "metadata": {
        "id": "60d2fa24"
      },
      "source": [
        "import os\n",
        "\n",
        "def is_file_empty_by_size(filepath):\n",
        "    \"\"\"\n",
        "    Checks if a file is empty by checking its size.\n",
        "    Handles FileNotFoundError.\n",
        "    \"\"\"\n",
        "    try:\n",
        "        if os.path.exists(filepath):\n",
        "            return os.path.getsize(filepath) == 0\n",
        "        else:\n",
        "            print(f\"Error: File '{filepath}' not found.\")\n",
        "            return False # Or raise an exception, depending on desired behavior\n",
        "    except OSError as e:\n",
        "        print(f\"Error checking file size for '{filepath}': {e}\")\n",
        "        return False # Indicate an error\n",
        "\n",
        "# --- Example Usage ---\n",
        "\n",
        "# Assuming \"myfile.txt\" exists and has content\n",
        "file_with_content = \"myfile.txt\"\n",
        "# Assuming \"empty_file.txt\" exists and is empty (created in a previous example)\n",
        "empty_file = \"empty_file.txt\"\n",
        "non_existent_file = \"non_existent_file_for_empty_check.txt\"\n",
        "\n",
        "print(f\"Is '{file_with_content}' empty? {is_file_empty_by_size(file_with_content)}\")\n",
        "print(f\"Is '{empty_file}' empty? {is_file_empty_by_size(empty_file)}\")\n",
        "print(f\"Is '{non_existent_file}' empty? {is_file_empty_by_size(non_existent_file)}\")"
      ],
      "execution_count": null,
      "outputs": []
    },
    {
      "cell_type": "markdown",
      "metadata": {
        "id": "71c2ef67"
      },
      "source": [
        "**2. By attempting to read and checking if the content is empty:**"
      ]
    },
    {
      "cell_type": "code",
      "metadata": {
        "id": "61002323"
      },
      "source": [
        "def is_file_empty_by_reading(filepath):\n",
        "    \"\"\"\n",
        "    Checks if a file is empty by attempting to read its content.\n",
        "    Handles FileNotFoundError.\n",
        "    \"\"\"\n",
        "    try:\n",
        "        with open(filepath, 'r') as file:\n",
        "            # Read just one character. If it's empty, the file is empty.\n",
        "            # Or you could read the whole content: content = file.read()\n",
        "            content = file.read(1)\n",
        "            return not content # Returns True if content is empty, False otherwise\n",
        "    except FileNotFoundError:\n",
        "        print(f\"Error: File '{filepath}' not found.\")\n",
        "        return False # Or raise an exception\n",
        "    except IOError as e:\n",
        "        print(f\"Error reading file '{filepath}': {e}\")\n",
        "        return False # Indicate an error\n",
        "\n",
        "# --- Example Usage ---\n",
        "\n",
        "print(f\"\\nIs '{file_with_content}' empty (by reading)? {is_file_empty_by_reading(file_with_content)}\")\n",
        "print(f\"Is '{empty_file}' empty (by reading)? {is_file_empty_by_reading(empty_file)}\")\n",
        "print(f\"Is '{non_existent_file}' empty (by reading)? {is_file_empty_by_reading(non_existent_file)}\")"
      ],
      "execution_count": null,
      "outputs": []
    },
    {
      "cell_type": "markdown",
      "source": [
        "22.Write a python program that writes to log file when an error occurs during file handling ."
      ],
      "metadata": {
        "id": "mNQ237FxmDTU"
      }
    },
    {
      "cell_type": "code",
      "metadata": {
        "colab": {
          "base_uri": "https://localhost:8080/"
        },
        "id": "347d1b40",
        "outputId": "f75fa16c-c56b-4e0e-fce4-d0e0a43c82f3"
      },
      "source": [
        "import logging\n",
        "\n",
        "# Configure logging to write to a file\n",
        "# Set the level to ERROR to log only errors and critical messages\n",
        "logging.basicConfig(filename='file_errors.log', level=logging.ERROR,\n",
        "                    format='%(asctime)s:%(levelname)s:%(message)s')\n",
        "\n",
        "def read_file_with_logging(filename):\n",
        "    \"\"\"\n",
        "    Attempts to read a file and logs an error if file handling fails.\n",
        "    \"\"\"\n",
        "    try:\n",
        "        with open(filename, 'r') as file:\n",
        "            content = file.read()\n",
        "            print(f\"Successfully read content from '{filename}'.\")\n",
        "            return content\n",
        "    except FileNotFoundError:\n",
        "        # Log the error to the file\n",
        "        logging.error(f\"File not found: '{filename}'\")\n",
        "        print(f\"Error: The file '{filename}' was not found. Error logged.\")\n",
        "        return None\n",
        "    except IOError as e:\n",
        "        # Log other I/O errors to the file\n",
        "        logging.error(f\"IOError occurred while reading '{filename}': {e}\")\n",
        "        print(f\"Error reading file '{filename}': {e}. Error logged.\")\n",
        "        return None\n",
        "    except Exception as e:\n",
        "        # Log any other unexpected errors\n",
        "        logging.error(f\"An unexpected error occurred while processing '{filename}': {e}\")\n",
        "        print(f\"An unexpected error occurred while processing '{filename}': {e}. Error logged.\")\n",
        "        return None\n",
        "\n",
        "# --- Example Usage ---\n",
        "\n",
        "# Example with an existing file (assuming \"myfile.txt\" exists)\n",
        "print(\"--- Trying to read an existing file ---\")\n",
        "read_file_with_logging(\"myfile.txt\")\n",
        "\n",
        "print(\"\\n--- Trying to read a non-existent file ---\")\n",
        "# Example with a non-existent file (will trigger FileNotFoundError and logging)\n",
        "read_file_with_logging(\"non_existent_file_for_logging.txt\")\n",
        "\n",
        "# Example that might cause another IOError (e.g., permission error - this depends on your system)\n",
        "# print(\"\\n--- Trying to read a file with potential permission issues ---\")\n",
        "# read_file_with_logging(\"/root/some_restricted_file.txt\") # Example path that might not be accessible"
      ],
      "execution_count": 42,
      "outputs": [
        {
          "output_type": "stream",
          "name": "stderr",
          "text": [
            "ERROR:root:File not found: 'non_existent_file_for_logging.txt'\n"
          ]
        },
        {
          "output_type": "stream",
          "name": "stdout",
          "text": [
            "--- Trying to read an existing file ---\n",
            "Successfully read content from 'myfile.txt'.\n",
            "\n",
            "--- Trying to read a non-existent file ---\n",
            "Error: The file 'non_existent_file_for_logging.txt' was not found. Error logged.\n"
          ]
        }
      ]
    }
  ]
}